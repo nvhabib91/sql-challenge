{
 "cells": [
  {
   "cell_type": "code",
   "execution_count": 2,
   "metadata": {},
   "outputs": [],
   "source": [
    "import csv"
   ]
  },
  {
   "cell_type": "code",
   "execution_count": 3,
   "metadata": {},
   "outputs": [
    {
     "name": "stdout",
     "output_type": "stream",
     "text": [
      "CSV Header: ['dept_no', 'dept_name']\n"
     ]
    }
   ],
   "source": [
    "csvpath = \"departments.csv\"\n",
    "with open(csvpath) as csvfile:\n",
    "    # CSV reader specifies delimiter and variable that holds contents\n",
    "    csvreader = csv.reader(csvfile, delimiter=',')\n",
    "    # Read the header row first (skip this step if there is now header)\n",
    "    csv_header = next(csvreader)\n",
    "    print(f\"CSV Header: {csv_header}\")"
   ]
  },
  {
   "cell_type": "markdown",
   "metadata": {},
   "source": [
    "```sql\n",
    "DROP TABLE \"departments\";\n",
    "create table \"departments\"(\n",
    "    \"dept_no\" VARCHAR NOT NULL,\n",
    "    \"dept_name\" VARCHAR NOT NULL\n",
    ");\n",
    "\n",
    "SELECT * FROM \"departments\";\n",
    "```"
   ]
  },
  {
   "cell_type": "code",
   "execution_count": 4,
   "metadata": {},
   "outputs": [
    {
     "name": "stdout",
     "output_type": "stream",
     "text": [
      "CSV Header: ['emp_no', 'dept_no', 'from_date', 'to_date']\n"
     ]
    }
   ],
   "source": [
    "csvpath = \"dept_emp.csv\"\n",
    "with open(csvpath) as csvfile:\n",
    "    # CSV reader specifies delimiter and variable that holds contents\n",
    "    csvreader = csv.reader(csvfile, delimiter=',')\n",
    "    # Read the header row first (skip this step if there is now header)\n",
    "    csv_header = next(csvreader)\n",
    "    print(f\"CSV Header: {csv_header}\")"
   ]
  },
  {
   "cell_type": "markdown",
   "metadata": {},
   "source": [
    "```sql\n",
    "create table \"dept_emp\"(\n",
    "    \"emp_no\" INT NOT NULL,\n",
    "    \"dept_no\" VARCHAR NOT NULL,\n",
    "    \"from_date\" DATE NOT NULL,\n",
    "    \"to_date\" DATE NOT NULL\n",
    ");\n",
    "\n",
    "SELECT * FROM \"dept_emp\";\n",
    "```"
   ]
  },
  {
   "cell_type": "code",
   "execution_count": 5,
   "metadata": {},
   "outputs": [
    {
     "name": "stdout",
     "output_type": "stream",
     "text": [
      "CSV Header: ['dept_no', 'emp_no', 'from_date', 'to_date']\n"
     ]
    }
   ],
   "source": [
    "csvpath = \"dept_manager.csv\"\n",
    "with open(csvpath) as csvfile:\n",
    "    # CSV reader specifies delimiter and variable that holds contents\n",
    "    csvreader = csv.reader(csvfile, delimiter=',')\n",
    "    # Read the header row first (skip this step if there is now header)\n",
    "    csv_header = next(csvreader)\n",
    "    print(f\"CSV Header: {csv_header}\")"
   ]
  },
  {
   "cell_type": "markdown",
   "metadata": {},
   "source": [
    "```sql\n",
    "\n",
    "create table \"dept_manager\"(\n",
    "    \"dept_no\" VARCHAR NOT NULL,\n",
    "    \"emp_no\" INT NOT NULL,\n",
    "    \"from_date\" DATE NOT NULL,\n",
    "    \"to_date\" DATE NOT NULL\n",
    ");\n",
    "\n",
    "SELECT * FROM \"dept_manager\";\n",
    "```"
   ]
  },
  {
   "cell_type": "code",
   "execution_count": 6,
   "metadata": {},
   "outputs": [
    {
     "name": "stdout",
     "output_type": "stream",
     "text": [
      "CSV Header: ['emp_no', 'birth_date', 'first_name', 'last_name', 'gender', 'hire_date']\n"
     ]
    }
   ],
   "source": [
    "csvpath = \"employees.csv\"\n",
    "with open(csvpath) as csvfile:\n",
    "    # CSV reader specifies delimiter and variable that holds contents\n",
    "    csvreader = csv.reader(csvfile, delimiter=',')\n",
    "    # Read the header row first (skip this step if there is now header)\n",
    "    csv_header = next(csvreader)\n",
    "    print(f\"CSV Header: {csv_header}\")"
   ]
  },
  {
   "cell_type": "markdown",
   "metadata": {},
   "source": [
    "```sql\n",
    "\n",
    "create table \"employees\"(\n",
    "    \"emp_no\" INT NOT NULL,\n",
    "    \"birth_date\" DATE NOT NULL,\n",
    "    \"first_name\" VARCHAR NOT NULL,\n",
    "    \"last_name\" VARCHAR NOT NULL,\n",
    "    \"gender\" VARCHAR NOT NULL,\n",
    "    \"hire_date\" DATE NOT NULL\n",
    ");\n",
    "\n",
    "SELECT * FROM \"employees\";\n",
    "```"
   ]
  },
  {
   "cell_type": "code",
   "execution_count": 7,
   "metadata": {},
   "outputs": [
    {
     "name": "stdout",
     "output_type": "stream",
     "text": [
      "CSV Header: ['emp_no', 'salary', 'from_date', 'to_date']\n"
     ]
    }
   ],
   "source": [
    "csvpath = \"salaries.csv\"\n",
    "with open(csvpath) as csvfile:\n",
    "    # CSV reader specifies delimiter and variable that holds contents\n",
    "    csvreader = csv.reader(csvfile, delimiter=',')\n",
    "    # Read the header row first (skip this step if there is now header)\n",
    "    csv_header = next(csvreader)\n",
    "    print(f\"CSV Header: {csv_header}\")"
   ]
  },
  {
   "cell_type": "markdown",
   "metadata": {},
   "source": [
    "```sql\n",
    "\n",
    "create table \"salaries\"(\n",
    "    \"emp_no\" INT NOT NULL,\n",
    "    \"salary\" INT NOT NULL,\n",
    "    \"from_date\" DATE NOT NULL,\n",
    "    \"to_date\" DATE NOT NULL\n",
    ");\n",
    "\n",
    "SELECT * FROM \"salaries\";\n",
    "```"
   ]
  },
  {
   "cell_type": "code",
   "execution_count": 8,
   "metadata": {},
   "outputs": [
    {
     "name": "stdout",
     "output_type": "stream",
     "text": [
      "CSV Header: ['emp_no', 'title', 'from_date', 'to_date']\n"
     ]
    }
   ],
   "source": [
    "csvpath = \"titles.csv\"\n",
    "with open(csvpath) as csvfile:\n",
    "    # CSV reader specifies delimiter and variable that holds contents\n",
    "    csvreader = csv.reader(csvfile, delimiter=',')\n",
    "    # Read the header row first (skip this step if there is now header)\n",
    "    csv_header = next(csvreader)\n",
    "    print(f\"CSV Header: {csv_header}\")"
   ]
  },
  {
   "cell_type": "markdown",
   "metadata": {},
   "source": [
    "```sql\n",
    "\n",
    "create table \"titles\"(\n",
    "    \"emp_no\" INT NOT NULL,\n",
    "    \"title\" VARCHAR NOT NULL,\n",
    "    \"from_date\" DATE NOT NULL,\n",
    "    \"to_date\" DATE NOT NULL\n",
    ");\n",
    "\n",
    "SELECT * FROM \"titles\";\n",
    "```"
   ]
  },
  {
   "cell_type": "code",
   "execution_count": null,
   "metadata": {},
   "outputs": [],
   "source": []
  }
 ],
 "metadata": {
  "kernelspec": {
   "display_name": "Python [conda env:PythonData] *",
   "language": "python",
   "name": "conda-env-PythonData-py"
  },
  "language_info": {
   "codemirror_mode": {
    "name": "ipython",
    "version": 3
   },
   "file_extension": ".py",
   "mimetype": "text/x-python",
   "name": "python",
   "nbconvert_exporter": "python",
   "pygments_lexer": "ipython3",
   "version": "3.7.5"
  }
 },
 "nbformat": 4,
 "nbformat_minor": 2
}
